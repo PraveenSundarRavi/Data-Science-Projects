{
 "cells": [
  {
   "cell_type": "markdown",
   "id": "c178f7ab",
   "metadata": {},
   "source": [
    "# EXPLORATORY DATA ANALYSIS 📊\n",
    "## STROKE DATASET 🩺"
   ]
  },
  {
   "cell_type": "code",
   "execution_count": 1,
   "id": "377cee36",
   "metadata": {},
   "outputs": [],
   "source": [
    "# importing defined libraries\n",
    "import pandas as pd\n",
    "import numpy as np\n",
    "import seaborn as sns\n",
    "import matplotlib.pyplot as plt\n",
    "from statistics import *\n",
    "from scipy import stats\n",
    "import math\n",
    "import statsmodels.api as sm\n",
    "from statsmodels.formula.api import ols\n",
    "from scipy.stats import ttest_1samp\n",
    "from statsmodels.stats.weightstats import ztest as ztest"
   ]
  },
  {
   "cell_type": "markdown",
   "id": "358535d7",
   "metadata": {},
   "source": [
    "#### IMPORT DATA"
   ]
  },
  {
   "cell_type": "code",
   "execution_count": 2,
   "id": "20367272",
   "metadata": {},
   "outputs": [],
   "source": [
    "Stroke_df = pd.read_csv(r'healthcare-dataset-stroke-data.csv')"
   ]
  },
  {
   "cell_type": "markdown",
   "id": "d9042b48",
   "metadata": {},
   "source": [
    "#### DATA EXPLORATION & CLEANING"
   ]
  },
  {
   "cell_type": "code",
   "execution_count": 8,
   "id": "8235e213",
   "metadata": {},
   "outputs": [
    {
     "data": {
      "text/html": [
       "<div>\n",
       "<style scoped>\n",
       "    .dataframe tbody tr th:only-of-type {\n",
       "        vertical-align: middle;\n",
       "    }\n",
       "\n",
       "    .dataframe tbody tr th {\n",
       "        vertical-align: top;\n",
       "    }\n",
       "\n",
       "    .dataframe thead th {\n",
       "        text-align: right;\n",
       "    }\n",
       "</style>\n",
       "<table border=\"1\" class=\"dataframe\">\n",
       "  <thead>\n",
       "    <tr style=\"text-align: right;\">\n",
       "      <th></th>\n",
       "      <th>id</th>\n",
       "      <th>gender</th>\n",
       "      <th>age</th>\n",
       "      <th>hypertension</th>\n",
       "      <th>heart_disease</th>\n",
       "      <th>ever_married</th>\n",
       "      <th>work_type</th>\n",
       "      <th>Residence_type</th>\n",
       "      <th>avg_glucose_level</th>\n",
       "      <th>bmi</th>\n",
       "      <th>smoking_status</th>\n",
       "      <th>stroke</th>\n",
       "    </tr>\n",
       "  </thead>\n",
       "  <tbody>\n",
       "    <tr>\n",
       "      <th>0</th>\n",
       "      <td>9046</td>\n",
       "      <td>Male</td>\n",
       "      <td>67.0</td>\n",
       "      <td>0</td>\n",
       "      <td>1</td>\n",
       "      <td>Yes</td>\n",
       "      <td>Private</td>\n",
       "      <td>Urban</td>\n",
       "      <td>228.69</td>\n",
       "      <td>36.6</td>\n",
       "      <td>formerly smoked</td>\n",
       "      <td>1</td>\n",
       "    </tr>\n",
       "    <tr>\n",
       "      <th>1</th>\n",
       "      <td>51676</td>\n",
       "      <td>Female</td>\n",
       "      <td>61.0</td>\n",
       "      <td>0</td>\n",
       "      <td>0</td>\n",
       "      <td>Yes</td>\n",
       "      <td>Self-employed</td>\n",
       "      <td>Rural</td>\n",
       "      <td>202.21</td>\n",
       "      <td>NaN</td>\n",
       "      <td>never smoked</td>\n",
       "      <td>1</td>\n",
       "    </tr>\n",
       "    <tr>\n",
       "      <th>2</th>\n",
       "      <td>31112</td>\n",
       "      <td>Male</td>\n",
       "      <td>80.0</td>\n",
       "      <td>0</td>\n",
       "      <td>1</td>\n",
       "      <td>Yes</td>\n",
       "      <td>Private</td>\n",
       "      <td>Rural</td>\n",
       "      <td>105.92</td>\n",
       "      <td>32.5</td>\n",
       "      <td>never smoked</td>\n",
       "      <td>1</td>\n",
       "    </tr>\n",
       "    <tr>\n",
       "      <th>3</th>\n",
       "      <td>60182</td>\n",
       "      <td>Female</td>\n",
       "      <td>49.0</td>\n",
       "      <td>0</td>\n",
       "      <td>0</td>\n",
       "      <td>Yes</td>\n",
       "      <td>Private</td>\n",
       "      <td>Urban</td>\n",
       "      <td>171.23</td>\n",
       "      <td>34.4</td>\n",
       "      <td>smokes</td>\n",
       "      <td>1</td>\n",
       "    </tr>\n",
       "    <tr>\n",
       "      <th>4</th>\n",
       "      <td>1665</td>\n",
       "      <td>Female</td>\n",
       "      <td>79.0</td>\n",
       "      <td>1</td>\n",
       "      <td>0</td>\n",
       "      <td>Yes</td>\n",
       "      <td>Self-employed</td>\n",
       "      <td>Rural</td>\n",
       "      <td>174.12</td>\n",
       "      <td>24.0</td>\n",
       "      <td>never smoked</td>\n",
       "      <td>1</td>\n",
       "    </tr>\n",
       "  </tbody>\n",
       "</table>\n",
       "</div>"
      ],
      "text/plain": [
       "      id  gender   age  hypertension  heart_disease ever_married  \\\n",
       "0   9046    Male  67.0             0              1          Yes   \n",
       "1  51676  Female  61.0             0              0          Yes   \n",
       "2  31112    Male  80.0             0              1          Yes   \n",
       "3  60182  Female  49.0             0              0          Yes   \n",
       "4   1665  Female  79.0             1              0          Yes   \n",
       "\n",
       "       work_type Residence_type  avg_glucose_level   bmi   smoking_status  \\\n",
       "0        Private          Urban             228.69  36.6  formerly smoked   \n",
       "1  Self-employed          Rural             202.21   NaN     never smoked   \n",
       "2        Private          Rural             105.92  32.5     never smoked   \n",
       "3        Private          Urban             171.23  34.4           smokes   \n",
       "4  Self-employed          Rural             174.12  24.0     never smoked   \n",
       "\n",
       "   stroke  \n",
       "0       1  \n",
       "1       1  \n",
       "2       1  \n",
       "3       1  \n",
       "4       1  "
      ]
     },
     "execution_count": 8,
     "metadata": {},
     "output_type": "execute_result"
    }
   ],
   "source": [
    "Stroke_df.head(5)"
   ]
  },
  {
   "cell_type": "code",
   "execution_count": 4,
   "id": "f5ed2bce",
   "metadata": {},
   "outputs": [
    {
     "name": "stdout",
     "output_type": "stream",
     "text": [
      "['id', 'gender', 'age', 'hypertension', 'heart_disease', 'ever_married', 'work_type', 'Residence_type', 'avg_glucose_level', 'bmi', 'smoking_status', 'stroke']\n"
     ]
    }
   ],
   "source": [
    "Stroke_col=list(Stroke_df.columns)\n",
    "print(Stroke_col)"
   ]
  },
  {
   "cell_type": "code",
   "execution_count": 10,
   "id": "f93abd1c",
   "metadata": {},
   "outputs": [
    {
     "name": "stdout",
     "output_type": "stream",
     "text": [
      "Total no. of rows & cols: (5110, 12)\n"
     ]
    }
   ],
   "source": [
    "print('Total no. of rows & cols:',Stroke_df.shape)"
   ]
  },
  {
   "cell_type": "code",
   "execution_count": 12,
   "id": "cf31426b",
   "metadata": {},
   "outputs": [
    {
     "name": "stdout",
     "output_type": "stream",
     "text": [
      "Statistics Summary:\n"
     ]
    },
    {
     "data": {
      "text/html": [
       "<div>\n",
       "<style scoped>\n",
       "    .dataframe tbody tr th:only-of-type {\n",
       "        vertical-align: middle;\n",
       "    }\n",
       "\n",
       "    .dataframe tbody tr th {\n",
       "        vertical-align: top;\n",
       "    }\n",
       "\n",
       "    .dataframe thead th {\n",
       "        text-align: right;\n",
       "    }\n",
       "</style>\n",
       "<table border=\"1\" class=\"dataframe\">\n",
       "  <thead>\n",
       "    <tr style=\"text-align: right;\">\n",
       "      <th></th>\n",
       "      <th>count</th>\n",
       "      <th>mean</th>\n",
       "      <th>std</th>\n",
       "      <th>min</th>\n",
       "      <th>25%</th>\n",
       "      <th>50%</th>\n",
       "      <th>75%</th>\n",
       "      <th>max</th>\n",
       "    </tr>\n",
       "  </thead>\n",
       "  <tbody>\n",
       "    <tr>\n",
       "      <th>id</th>\n",
       "      <td>5110.0</td>\n",
       "      <td>36517.829354</td>\n",
       "      <td>21161.721625</td>\n",
       "      <td>67.00</td>\n",
       "      <td>17741.250</td>\n",
       "      <td>36932.000</td>\n",
       "      <td>54682.00</td>\n",
       "      <td>72940.00</td>\n",
       "    </tr>\n",
       "    <tr>\n",
       "      <th>age</th>\n",
       "      <td>5110.0</td>\n",
       "      <td>43.226614</td>\n",
       "      <td>22.612647</td>\n",
       "      <td>0.08</td>\n",
       "      <td>25.000</td>\n",
       "      <td>45.000</td>\n",
       "      <td>61.00</td>\n",
       "      <td>82.00</td>\n",
       "    </tr>\n",
       "    <tr>\n",
       "      <th>hypertension</th>\n",
       "      <td>5110.0</td>\n",
       "      <td>0.097456</td>\n",
       "      <td>0.296607</td>\n",
       "      <td>0.00</td>\n",
       "      <td>0.000</td>\n",
       "      <td>0.000</td>\n",
       "      <td>0.00</td>\n",
       "      <td>1.00</td>\n",
       "    </tr>\n",
       "    <tr>\n",
       "      <th>heart_disease</th>\n",
       "      <td>5110.0</td>\n",
       "      <td>0.054012</td>\n",
       "      <td>0.226063</td>\n",
       "      <td>0.00</td>\n",
       "      <td>0.000</td>\n",
       "      <td>0.000</td>\n",
       "      <td>0.00</td>\n",
       "      <td>1.00</td>\n",
       "    </tr>\n",
       "    <tr>\n",
       "      <th>avg_glucose_level</th>\n",
       "      <td>5110.0</td>\n",
       "      <td>106.147677</td>\n",
       "      <td>45.283560</td>\n",
       "      <td>55.12</td>\n",
       "      <td>77.245</td>\n",
       "      <td>91.885</td>\n",
       "      <td>114.09</td>\n",
       "      <td>271.74</td>\n",
       "    </tr>\n",
       "    <tr>\n",
       "      <th>bmi</th>\n",
       "      <td>4909.0</td>\n",
       "      <td>28.893237</td>\n",
       "      <td>7.854067</td>\n",
       "      <td>10.30</td>\n",
       "      <td>23.500</td>\n",
       "      <td>28.100</td>\n",
       "      <td>33.10</td>\n",
       "      <td>97.60</td>\n",
       "    </tr>\n",
       "    <tr>\n",
       "      <th>stroke</th>\n",
       "      <td>5110.0</td>\n",
       "      <td>0.048728</td>\n",
       "      <td>0.215320</td>\n",
       "      <td>0.00</td>\n",
       "      <td>0.000</td>\n",
       "      <td>0.000</td>\n",
       "      <td>0.00</td>\n",
       "      <td>1.00</td>\n",
       "    </tr>\n",
       "  </tbody>\n",
       "</table>\n",
       "</div>"
      ],
      "text/plain": [
       "                    count          mean           std    min        25%  \\\n",
       "id                 5110.0  36517.829354  21161.721625  67.00  17741.250   \n",
       "age                5110.0     43.226614     22.612647   0.08     25.000   \n",
       "hypertension       5110.0      0.097456      0.296607   0.00      0.000   \n",
       "heart_disease      5110.0      0.054012      0.226063   0.00      0.000   \n",
       "avg_glucose_level  5110.0    106.147677     45.283560  55.12     77.245   \n",
       "bmi                4909.0     28.893237      7.854067  10.30     23.500   \n",
       "stroke             5110.0      0.048728      0.215320   0.00      0.000   \n",
       "\n",
       "                         50%       75%       max  \n",
       "id                 36932.000  54682.00  72940.00  \n",
       "age                   45.000     61.00     82.00  \n",
       "hypertension           0.000      0.00      1.00  \n",
       "heart_disease          0.000      0.00      1.00  \n",
       "avg_glucose_level     91.885    114.09    271.74  \n",
       "bmi                   28.100     33.10     97.60  \n",
       "stroke                 0.000      0.00      1.00  "
      ]
     },
     "execution_count": 12,
     "metadata": {},
     "output_type": "execute_result"
    }
   ],
   "source": [
    "print(\"Statistics Summary:\")\n",
    "Stroke_df.describe().T"
   ]
  },
  {
   "cell_type": "code",
   "execution_count": null,
   "id": "a0b1f509",
   "metadata": {},
   "outputs": [],
   "source": [
    "\"\"\"\n",
    "Here we can see that,\n",
    "(i)  AGE is slightly left skewed as its median(2nd Quartile) > mean\n",
    "(ii) AVG_GLUCOSE_LEVEL is notably right skewed\n",
    "\"\"\""
   ]
  },
  {
   "cell_type": "code",
   "execution_count": 13,
   "id": "25ca1df0",
   "metadata": {},
   "outputs": [
    {
     "name": "stdout",
     "output_type": "stream",
     "text": [
      "<class 'pandas.core.frame.DataFrame'>\n",
      "RangeIndex: 5110 entries, 0 to 5109\n",
      "Data columns (total 12 columns):\n",
      " #   Column             Non-Null Count  Dtype  \n",
      "---  ------             --------------  -----  \n",
      " 0   id                 5110 non-null   int64  \n",
      " 1   gender             5110 non-null   object \n",
      " 2   age                5110 non-null   float64\n",
      " 3   hypertension       5110 non-null   int64  \n",
      " 4   heart_disease      5110 non-null   int64  \n",
      " 5   ever_married       5110 non-null   object \n",
      " 6   work_type          5110 non-null   object \n",
      " 7   Residence_type     5110 non-null   object \n",
      " 8   avg_glucose_level  5110 non-null   float64\n",
      " 9   bmi                4909 non-null   float64\n",
      " 10  smoking_status     5110 non-null   object \n",
      " 11  stroke             5110 non-null   int64  \n",
      "dtypes: float64(3), int64(4), object(5)\n",
      "memory usage: 479.2+ KB\n"
     ]
    }
   ],
   "source": [
    "Stroke_df.info()"
   ]
  },
  {
   "cell_type": "code",
   "execution_count": 14,
   "id": "c7f95679",
   "metadata": {},
   "outputs": [
    {
     "name": "stdout",
     "output_type": "stream",
     "text": [
      "Total null/NaN values present in each variable:\n"
     ]
    },
    {
     "data": {
      "text/plain": [
       "id                     0\n",
       "gender                 0\n",
       "age                    0\n",
       "hypertension           0\n",
       "heart_disease          0\n",
       "ever_married           0\n",
       "work_type              0\n",
       "Residence_type         0\n",
       "avg_glucose_level      0\n",
       "bmi                  201\n",
       "smoking_status         0\n",
       "stroke                 0\n",
       "dtype: int64"
      ]
     },
     "execution_count": 14,
     "metadata": {},
     "output_type": "execute_result"
    }
   ],
   "source": [
    "print('Total null/NaN values present in each variable:')\n",
    "Stroke_df.isnull().sum()"
   ]
  },
  {
   "cell_type": "code",
   "execution_count": 15,
   "id": "f02aa874",
   "metadata": {},
   "outputs": [
    {
     "name": "stdout",
     "output_type": "stream",
     "text": [
      "Total # Before dropping NA: 5110\n",
      "Total # After dropping NA: 4909\n"
     ]
    }
   ],
   "source": [
    "print('Total # Before dropping NA:', Stroke_df['id'].count())\n",
    "Stroke_df.dropna(axis=0,how='any', inplace=True)\n",
    "print('Total # After dropping NA:', Stroke_df['id'].count())"
   ]
  },
  {
   "cell_type": "code",
   "execution_count": null,
   "id": "4a91669e",
   "metadata": {},
   "outputs": [],
   "source": []
  },
  {
   "cell_type": "markdown",
   "id": "c1544d25",
   "metadata": {},
   "source": [
    "#### UNIVARIATE STATISTICS"
   ]
  },
  {
   "cell_type": "markdown",
   "id": "df8a3fc8",
   "metadata": {},
   "source": [
    "BMI: The body mass index (BMI) is a measure that uses your height and weight to work out if your weight is healthy.\\\n",
    "Formula = Weigh(kg)/Heigh^2(m) \\\n",
    "BMI Healthy Range: 18.5 to 24.9 \\\n",
    "Glucose level Healthy Range: 80 - 120 mg/dL \\\n",
    "Useful link: [BMI](https://www.nhs.uk/common-health-questions/lifestyle/what-is-the-body-mass-index-bmi/), [Average glucose level](https://www.who.int/data/gho/indicator-metadata-registry/imr-details/2380#:~:text=Rationale%3A,(5.6%20mmol%2FL).)"
   ]
  },
  {
   "cell_type": "code",
   "execution_count": 19,
   "id": "d0c70e16",
   "metadata": {},
   "outputs": [
    {
     "name": "stdout",
     "output_type": "stream",
     "text": [
      "avg_glucose_level:\n",
      "Mean avg_glucose_level: 105.3051497249949\n",
      "Median avg_glucose_level: 91.68\n",
      "S.D. avg_glucose_level: 44.419815645303075\n",
      "variance avg_glucose_level: 1973.5220431570808\n",
      "\n",
      "\n",
      "BMI:\n",
      "Mean bmi: 28.893236911794663\n",
      "Median bmi: 28.1\n",
      "S.D. bmi: 7.8532667228810755\n",
      "variance bmi: 61.68636419426886\n"
     ]
    }
   ],
   "source": [
    "\"\"\" You can choose any numerical variable. Here, I've chosen avg_glucose_level & bmi \"\"\"\n",
    "\n",
    "print('avg_glucose_level:')\n",
    "#Central Tendancy\n",
    "print('Mean avg_glucose_level:',mean(Stroke_df['avg_glucose_level']))\n",
    "print('Median avg_glucose_level:',median(Stroke_df['avg_glucose_level']))\n",
    "\n",
    "#variable distribution\n",
    "print('S.D. avg_glucose_level:',pstdev(Stroke_df['avg_glucose_level']))\n",
    "print('variance avg_glucose_level:',variance(Stroke_df['avg_glucose_level']))\n",
    "print('\\n')\n",
    "\n",
    "# Additional information,\n",
    "print('BMI:')\n",
    "#Central Tendancy\n",
    "print('Mean bmi:',mean(Stroke_df['bmi']))\n",
    "print('Median bmi:',median(Stroke_df['bmi']))\n",
    "\n",
    "#variable distribution\n",
    "print('S.D. bmi:',pstdev(Stroke_df['bmi']))\n",
    "print('variance bmi:',variance(Stroke_df['bmi']))"
   ]
  },
  {
   "cell_type": "code",
   "execution_count": 21,
   "id": "104803c1",
   "metadata": {},
   "outputs": [
    {
     "name": "stdout",
     "output_type": "stream",
     "text": [
      "IQR of avg_glucose_level: 36.5\n",
      "Range of avg_glucose_level without outliers: [22.32] to [168.32]\n"
     ]
    }
   ],
   "source": [
    "IQR = stats.iqr(Stroke_df['avg_glucose_level'], interpolation = 'midpoint')\n",
    "print('IQR of avg_glucose_level:', IQR)\n",
    "\n",
    "\"\"\" since Pandas have a better performance when the number of rows is 500K or more. \n",
    "    Numpy has a better performance when number of rows is 50K or less. \"\"\"\n",
    "\n",
    "Q1 = np.quantile(Stroke_df['avg_glucose_level'], .25, axis = 0, keepdims = True)\n",
    "Q3 = np.quantile(Stroke_df['avg_glucose_level'], .75, axis = 0, keepdims = True)\n",
    "\n",
    "print('Range of avg_glucose_level without outliers: {0} to {1}'.format(Q1-1.5*IQR,Q3+1.5*IQR))"
   ]
  },
  {
   "cell_type": "code",
   "execution_count": null,
   "id": "253617f4",
   "metadata": {},
   "outputs": [],
   "source": []
  },
  {
   "cell_type": "code",
   "execution_count": 34,
   "id": "e34abefe",
   "metadata": {},
   "outputs": [
    {
     "data": {
      "image/png": "[encoded data removed]",
      "text/plain": [
       "<Figure size 640x480 with 1 Axes>"
      ]
     },
     "metadata": {},
     "output_type": "display_data"
    }
   ],
   "source": [
    "\n",
    "plt.hist(Stroke_df['avg_glucose_level'])\n",
    "\n",
    "sns.set()\n",
    "h = sns.histplot(Stroke_df['avg_glucose_level'], bins='auto')\n",
    "plt.xlabel('avg_glucose_level')\n",
    "plt.ylabel('frequency')\n",
    "\n",
    "plt.show()"
   ]
  },
  {
   "cell_type": "code",
   "execution_count": null,
   "id": "e756712d",
   "metadata": {},
   "outputs": [],
   "source": [
    "\"\"\"From the above histogram we can see that,\n",
    "(i)   We have more no. of patients with glucose range 50-100 mg/dL\n",
    "(ii)  And few patients <20 in the range 250 mg/dL & above\n",
    "(iii) And No patients <50 which looks understandable.\"\"\""
   ]
  },
  {
   "cell_type": "code",
   "execution_count": 91,
   "id": "bdba88e9",
   "metadata": {},
   "outputs": [
    {
     "data": {
      "image/png": "[encoded data removed]",
      "text/plain": [
       "<Figure size 640x480 with 1 Axes>"
      ]
     },
     "metadata": {},
     "output_type": "display_data"
    }
   ],
   "source": [
    "sns.boxplot(x=\"variable\", y=\"value\", data=pd.melt(Stroke_df_f[['age','avg_glucose_level','bmi']]))\n",
    "\n",
    "plt.show()"
   ]
  },
  {
   "cell_type": "code",
   "execution_count": null,
   "id": "ebc0e31d",
   "metadata": {},
   "outputs": [],
   "source": [
    "\"\"\"From the above boxplot we can see that,\n",
    "(i)  avg_glucose_level & bmi do have some outliers. \n",
    "     But we can't rule out the possibility of patient having glucose level >250 and higher BMI.\"\"\""
   ]
  },
  {
   "cell_type": "code",
   "execution_count": 94,
   "id": "1eed9e30",
   "metadata": {},
   "outputs": [
    {
     "data": {
      "text/plain": [
       "Text(0.5, 0, 'avg_glucose_level')"
      ]
     },
     "execution_count": 94,
     "metadata": {},
     "output_type": "execute_result"
    },
    {
     "data": {
      "image/png": "[encoded data removed]",
      "text/plain": [
       "<Figure size 640x480 with 1 Axes>"
      ]
     },
     "metadata": {},
     "output_type": "display_data"
    }
   ],
   "source": [
    "#plot distribution of values in points column\n",
    "dist_plot=Stroke_df_f['avg_glucose_level'].plot(kind='kde')\n",
    "\n",
    "dist_plot.set_xlabel(\"avg_glucose_level\")"
   ]
  },
  {
   "cell_type": "code",
   "execution_count": 86,
   "id": "b3b58b9a",
   "metadata": {},
   "outputs": [
    {
     "data": {
      "image/png": "[encoded data removed]",
      "text/plain": [
       "<Figure size 600x400 with 1 Axes>"
      ]
     },
     "metadata": {},
     "output_type": "display_data"
    }
   ],
   "source": [
    "ax = Stroke_df['stroke'].value_counts().plot(kind='bar',\n",
    "                                         figsize=(6,4),\n",
    "                                         title=\"No. of people with No Stroke vs. Stroke\")\n",
    "ax.set_xlabel(\"Count of people\")\n",
    "ax.set_ylabel(\"Frequency\")\n",
    "plt.yticks(np.arange(0,5000, 100))\n",
    "for bars in ax.containers:\n",
    "    ax.bar_label(bars)\n",
    "ax.axes.get_yaxis().set_visible(False)\n",
    "plt.show()"
   ]
  },
  {
   "cell_type": "code",
   "execution_count": null,
   "id": "5e23a441",
   "metadata": {},
   "outputs": [],
   "source": []
  },
  {
   "cell_type": "markdown",
   "id": "190d94b4",
   "metadata": {},
   "source": [
    "### BIVARIATE ANALYSIS"
   ]
  },
  {
   "cell_type": "code",
   "execution_count": 62,
   "id": "596ade16",
   "metadata": {},
   "outputs": [
    {
     "data": {
      "text/html": [
       "<div>\n",
       "<style scoped>\n",
       "    .dataframe tbody tr th:only-of-type {\n",
       "        vertical-align: middle;\n",
       "    }\n",
       "\n",
       "    .dataframe tbody tr th {\n",
       "        vertical-align: top;\n",
       "    }\n",
       "\n",
       "    .dataframe thead th {\n",
       "        text-align: right;\n",
       "    }\n",
       "</style>\n",
       "<table border=\"1\" class=\"dataframe\">\n",
       "  <thead>\n",
       "    <tr style=\"text-align: right;\">\n",
       "      <th></th>\n",
       "      <th>id</th>\n",
       "      <th>age</th>\n",
       "      <th>hypertension</th>\n",
       "      <th>heart_disease</th>\n",
       "      <th>avg_glucose_level</th>\n",
       "      <th>bmi</th>\n",
       "      <th>stroke</th>\n",
       "    </tr>\n",
       "  </thead>\n",
       "  <tbody>\n",
       "    <tr>\n",
       "      <th>id</th>\n",
       "      <td>1.000000</td>\n",
       "      <td>0.008984</td>\n",
       "      <td>0.001147</td>\n",
       "      <td>0.004016</td>\n",
       "      <td>0.006409</td>\n",
       "      <td>0.003084</td>\n",
       "      <td>0.004839</td>\n",
       "    </tr>\n",
       "    <tr>\n",
       "      <th>age</th>\n",
       "      <td>0.008984</td>\n",
       "      <td>1.000000</td>\n",
       "      <td>0.274425</td>\n",
       "      <td>0.257123</td>\n",
       "      <td>0.235838</td>\n",
       "      <td>0.333398</td>\n",
       "      <td>0.232331</td>\n",
       "    </tr>\n",
       "    <tr>\n",
       "      <th>hypertension</th>\n",
       "      <td>0.001147</td>\n",
       "      <td>0.274425</td>\n",
       "      <td>1.000000</td>\n",
       "      <td>0.115991</td>\n",
       "      <td>0.180543</td>\n",
       "      <td>0.167811</td>\n",
       "      <td>0.142515</td>\n",
       "    </tr>\n",
       "    <tr>\n",
       "      <th>heart_disease</th>\n",
       "      <td>0.004016</td>\n",
       "      <td>0.257123</td>\n",
       "      <td>0.115991</td>\n",
       "      <td>1.000000</td>\n",
       "      <td>0.154525</td>\n",
       "      <td>0.041357</td>\n",
       "      <td>0.137938</td>\n",
       "    </tr>\n",
       "    <tr>\n",
       "      <th>avg_glucose_level</th>\n",
       "      <td>0.006409</td>\n",
       "      <td>0.235838</td>\n",
       "      <td>0.180543</td>\n",
       "      <td>0.154525</td>\n",
       "      <td>1.000000</td>\n",
       "      <td>0.175502</td>\n",
       "      <td>0.138936</td>\n",
       "    </tr>\n",
       "    <tr>\n",
       "      <th>bmi</th>\n",
       "      <td>0.003084</td>\n",
       "      <td>0.333398</td>\n",
       "      <td>0.167811</td>\n",
       "      <td>0.041357</td>\n",
       "      <td>0.175502</td>\n",
       "      <td>1.000000</td>\n",
       "      <td>0.042374</td>\n",
       "    </tr>\n",
       "    <tr>\n",
       "      <th>stroke</th>\n",
       "      <td>0.004839</td>\n",
       "      <td>0.232331</td>\n",
       "      <td>0.142515</td>\n",
       "      <td>0.137938</td>\n",
       "      <td>0.138936</td>\n",
       "      <td>0.042374</td>\n",
       "      <td>1.000000</td>\n",
       "    </tr>\n",
       "  </tbody>\n",
       "</table>\n",
       "</div>"
      ],
      "text/plain": [
       "                         id       age  hypertension  heart_disease  \\\n",
       "id                 1.000000  0.008984      0.001147       0.004016   \n",
       "age                0.008984  1.000000      0.274425       0.257123   \n",
       "hypertension       0.001147  0.274425      1.000000       0.115991   \n",
       "heart_disease      0.004016  0.257123      0.115991       1.000000   \n",
       "avg_glucose_level  0.006409  0.235838      0.180543       0.154525   \n",
       "bmi                0.003084  0.333398      0.167811       0.041357   \n",
       "stroke             0.004839  0.232331      0.142515       0.137938   \n",
       "\n",
       "                   avg_glucose_level       bmi    stroke  \n",
       "id                          0.006409  0.003084  0.004839  \n",
       "age                         0.235838  0.333398  0.232331  \n",
       "hypertension                0.180543  0.167811  0.142515  \n",
       "heart_disease               0.154525  0.041357  0.137938  \n",
       "avg_glucose_level           1.000000  0.175502  0.138936  \n",
       "bmi                         0.175502  1.000000  0.042374  \n",
       "stroke                      0.138936  0.042374  1.000000  "
      ]
     },
     "execution_count": 62,
     "metadata": {},
     "output_type": "execute_result"
    }
   ],
   "source": [
    "Stroke_df_f = Stroke_df. select_dtypes(include = ['float','int64'])\n",
    "\n",
    "                                            \"\"\" CORRELATION TEST \"\"\"\n",
    "    \n",
    "# Correlation table:\n",
    "Stroke_df_f.corr()\n"
   ]
  },
  {
   "cell_type": "code",
   "execution_count": null,
   "id": "9df533f7",
   "metadata": {},
   "outputs": [],
   "source": [
    "\"\"\" From the above table we can see that,\n",
    "    (i)  There exists strong positive correlation for age with avg_glucose_level, bmi and hypertension as well.\n",
    "    (ii) And also little +ve correlation between bmi and stroke <0.05 \"\"\""
   ]
  },
  {
   "cell_type": "code",
   "execution_count": null,
   "id": "2f19c79f",
   "metadata": {},
   "outputs": [],
   "source": []
  },
  {
   "cell_type": "code",
   "execution_count": 60,
   "id": "50053ebb",
   "metadata": {},
   "outputs": [
    {
     "data": {
      "text/plain": [
       "<Axes: title={'center': 'bmi vs. avg_glucose_level'}, xlabel='bmi', ylabel='avg_glucose_level'>"
      ]
     },
     "execution_count": 60,
     "metadata": {},
     "output_type": "execute_result"
    },
    {
     "data": {
      "image/png": "[encoded data removed]",
      "text/plain": [
       "<Figure size 640x480 with 1 Axes>"
      ]
     },
     "metadata": {},
     "output_type": "display_data"
    }
   ],
   "source": [
    "plt.scatter(Stroke_df['bmi'], Stroke_df['avg_glucose_level'])\n",
    "plt.title('bmi vs. avg_glucose_level')\n",
    "plt.xlabel('bmi')\n",
    "plt.ylabel('avg_glucose_lvl')\n",
    "\n",
    "# use regplot\n",
    "sns.regplot(x = \"bmi\",\n",
    "            y = \"avg_glucose_level\", \n",
    "            ci = None,\n",
    "            data = Stroke_df)"
   ]
  },
  {
   "cell_type": "code",
   "execution_count": null,
   "id": "d9e9c693",
   "metadata": {},
   "outputs": [],
   "source": [
    "\"\"\"From the above scatter plot we can see that,\n",
    "(i)  With bmi ↑, average glucose level ↑ as well. \"\"\""
   ]
  },
  {
   "cell_type": "code",
   "execution_count": null,
   "id": "1d869b88",
   "metadata": {},
   "outputs": [],
   "source": []
  },
  {
   "cell_type": "markdown",
   "id": "e7529975",
   "metadata": {},
   "source": [
    "### MULTIVARIATE ANALYSIS"
   ]
  },
  {
   "cell_type": "code",
   "execution_count": 65,
   "id": "21e7c780",
   "metadata": {},
   "outputs": [
    {
     "data": {
      "image/png": "[encoded data removed]",
      "text/plain": [
       "<Figure size 640x480 with 2 Axes>"
      ]
     },
     "metadata": {},
     "output_type": "display_data"
    }
   ],
   "source": [
    "sns.heatmap(Stroke_df_f.corr(), center=0, cmap='inferno', robust=True)\n",
    "plt.show()"
   ]
  },
  {
   "cell_type": "code",
   "execution_count": 22,
   "id": "e9355fab",
   "metadata": {
    "collapsed": true,
    "jupyter": {
     "outputs_hidden": true
    }
   },
   "outputs": [
    {
     "data": {
      "text/plain": [
       "'From the above heatmap, we can infer that\\n(i)  Age exhibits strong positive linear correlation with factors such as hypertension, bmi, avg_glucose_level\\n(ii) Also with increased bmi level, we see a prominent increase in avg_glucose_level'"
      ]
     },
     "execution_count": 22,
     "metadata": {},
     "output_type": "execute_result"
    }
   ],
   "source": [
    "\"\"\"From the above heatmap, we can infer that\n",
    "(i)  Age exhibits strong positive linear correlation with factors such as hypertension, bmi, avg_glucose_level\n",
    "(ii) Also with increased bmi level, we see a prominent increase in avg_glucose_level\"\"\""
   ]
  },
  {
   "cell_type": "code",
   "execution_count": null,
   "id": "d17e7bc2",
   "metadata": {},
   "outputs": [],
   "source": []
  },
  {
   "cell_type": "markdown",
   "id": "d8a03024",
   "metadata": {},
   "source": [
    "#### UNIVARIATE STATISTICAL ANALYSIS"
   ]
  },
  {
   "cell_type": "code",
   "execution_count": 9,
   "id": "a67bde10",
   "metadata": {},
   "outputs": [
    {
     "data": {
      "text/html": [
       "<div>\n",
       "<style scoped>\n",
       "    .dataframe tbody tr th:only-of-type {\n",
       "        vertical-align: middle;\n",
       "    }\n",
       "\n",
       "    .dataframe tbody tr th {\n",
       "        vertical-align: top;\n",
       "    }\n",
       "\n",
       "    .dataframe thead th {\n",
       "        text-align: right;\n",
       "    }\n",
       "</style>\n",
       "<table border=\"1\" class=\"dataframe\">\n",
       "  <thead>\n",
       "    <tr style=\"text-align: right;\">\n",
       "      <th></th>\n",
       "      <th>id</th>\n",
       "      <th>gender</th>\n",
       "      <th>age</th>\n",
       "      <th>hypertension</th>\n",
       "      <th>heart_disease</th>\n",
       "      <th>ever_married</th>\n",
       "      <th>work_type</th>\n",
       "      <th>Residence_type</th>\n",
       "      <th>avg_glucose_level</th>\n",
       "      <th>bmi</th>\n",
       "      <th>smoking_status</th>\n",
       "      <th>stroke</th>\n",
       "    </tr>\n",
       "  </thead>\n",
       "  <tbody>\n",
       "    <tr>\n",
       "      <th>0</th>\n",
       "      <td>9046</td>\n",
       "      <td>Male</td>\n",
       "      <td>67.0</td>\n",
       "      <td>0</td>\n",
       "      <td>1</td>\n",
       "      <td>Yes</td>\n",
       "      <td>Private</td>\n",
       "      <td>Urban</td>\n",
       "      <td>228.69</td>\n",
       "      <td>36.6</td>\n",
       "      <td>formerly smoked</td>\n",
       "      <td>1</td>\n",
       "    </tr>\n",
       "    <tr>\n",
       "      <th>1</th>\n",
       "      <td>51676</td>\n",
       "      <td>Female</td>\n",
       "      <td>61.0</td>\n",
       "      <td>0</td>\n",
       "      <td>0</td>\n",
       "      <td>Yes</td>\n",
       "      <td>Self-employed</td>\n",
       "      <td>Rural</td>\n",
       "      <td>202.21</td>\n",
       "      <td>NaN</td>\n",
       "      <td>never smoked</td>\n",
       "      <td>1</td>\n",
       "    </tr>\n",
       "    <tr>\n",
       "      <th>2</th>\n",
       "      <td>31112</td>\n",
       "      <td>Male</td>\n",
       "      <td>80.0</td>\n",
       "      <td>0</td>\n",
       "      <td>1</td>\n",
       "      <td>Yes</td>\n",
       "      <td>Private</td>\n",
       "      <td>Rural</td>\n",
       "      <td>105.92</td>\n",
       "      <td>32.5</td>\n",
       "      <td>never smoked</td>\n",
       "      <td>1</td>\n",
       "    </tr>\n",
       "    <tr>\n",
       "      <th>3</th>\n",
       "      <td>60182</td>\n",
       "      <td>Female</td>\n",
       "      <td>49.0</td>\n",
       "      <td>0</td>\n",
       "      <td>0</td>\n",
       "      <td>Yes</td>\n",
       "      <td>Private</td>\n",
       "      <td>Urban</td>\n",
       "      <td>171.23</td>\n",
       "      <td>34.4</td>\n",
       "      <td>smokes</td>\n",
       "      <td>1</td>\n",
       "    </tr>\n",
       "    <tr>\n",
       "      <th>4</th>\n",
       "      <td>1665</td>\n",
       "      <td>Female</td>\n",
       "      <td>79.0</td>\n",
       "      <td>1</td>\n",
       "      <td>0</td>\n",
       "      <td>Yes</td>\n",
       "      <td>Self-employed</td>\n",
       "      <td>Rural</td>\n",
       "      <td>174.12</td>\n",
       "      <td>24.0</td>\n",
       "      <td>never smoked</td>\n",
       "      <td>1</td>\n",
       "    </tr>\n",
       "    <tr>\n",
       "      <th>...</th>\n",
       "      <td>...</td>\n",
       "      <td>...</td>\n",
       "      <td>...</td>\n",
       "      <td>...</td>\n",
       "      <td>...</td>\n",
       "      <td>...</td>\n",
       "      <td>...</td>\n",
       "      <td>...</td>\n",
       "      <td>...</td>\n",
       "      <td>...</td>\n",
       "      <td>...</td>\n",
       "      <td>...</td>\n",
       "    </tr>\n",
       "    <tr>\n",
       "      <th>5105</th>\n",
       "      <td>18234</td>\n",
       "      <td>Female</td>\n",
       "      <td>80.0</td>\n",
       "      <td>1</td>\n",
       "      <td>0</td>\n",
       "      <td>Yes</td>\n",
       "      <td>Private</td>\n",
       "      <td>Urban</td>\n",
       "      <td>83.75</td>\n",
       "      <td>NaN</td>\n",
       "      <td>never smoked</td>\n",
       "      <td>0</td>\n",
       "    </tr>\n",
       "    <tr>\n",
       "      <th>5106</th>\n",
       "      <td>44873</td>\n",
       "      <td>Female</td>\n",
       "      <td>81.0</td>\n",
       "      <td>0</td>\n",
       "      <td>0</td>\n",
       "      <td>Yes</td>\n",
       "      <td>Self-employed</td>\n",
       "      <td>Urban</td>\n",
       "      <td>125.20</td>\n",
       "      <td>40.0</td>\n",
       "      <td>never smoked</td>\n",
       "      <td>0</td>\n",
       "    </tr>\n",
       "    <tr>\n",
       "      <th>5107</th>\n",
       "      <td>19723</td>\n",
       "      <td>Female</td>\n",
       "      <td>35.0</td>\n",
       "      <td>0</td>\n",
       "      <td>0</td>\n",
       "      <td>Yes</td>\n",
       "      <td>Self-employed</td>\n",
       "      <td>Rural</td>\n",
       "      <td>82.99</td>\n",
       "      <td>30.6</td>\n",
       "      <td>never smoked</td>\n",
       "      <td>0</td>\n",
       "    </tr>\n",
       "    <tr>\n",
       "      <th>5108</th>\n",
       "      <td>37544</td>\n",
       "      <td>Male</td>\n",
       "      <td>51.0</td>\n",
       "      <td>0</td>\n",
       "      <td>0</td>\n",
       "      <td>Yes</td>\n",
       "      <td>Private</td>\n",
       "      <td>Rural</td>\n",
       "      <td>166.29</td>\n",
       "      <td>25.6</td>\n",
       "      <td>formerly smoked</td>\n",
       "      <td>0</td>\n",
       "    </tr>\n",
       "    <tr>\n",
       "      <th>5109</th>\n",
       "      <td>44679</td>\n",
       "      <td>Female</td>\n",
       "      <td>44.0</td>\n",
       "      <td>0</td>\n",
       "      <td>0</td>\n",
       "      <td>Yes</td>\n",
       "      <td>Govt_job</td>\n",
       "      <td>Urban</td>\n",
       "      <td>85.28</td>\n",
       "      <td>26.2</td>\n",
       "      <td>Unknown</td>\n",
       "      <td>0</td>\n",
       "    </tr>\n",
       "  </tbody>\n",
       "</table>\n",
       "<p>5110 rows × 12 columns</p>\n",
       "</div>"
      ],
      "text/plain": [
       "         id  gender   age  hypertension  heart_disease ever_married  \\\n",
       "0      9046    Male  67.0             0              1          Yes   \n",
       "1     51676  Female  61.0             0              0          Yes   \n",
       "2     31112    Male  80.0             0              1          Yes   \n",
       "3     60182  Female  49.0             0              0          Yes   \n",
       "4      1665  Female  79.0             1              0          Yes   \n",
       "...     ...     ...   ...           ...            ...          ...   \n",
       "5105  18234  Female  80.0             1              0          Yes   \n",
       "5106  44873  Female  81.0             0              0          Yes   \n",
       "5107  19723  Female  35.0             0              0          Yes   \n",
       "5108  37544    Male  51.0             0              0          Yes   \n",
       "5109  44679  Female  44.0             0              0          Yes   \n",
       "\n",
       "          work_type Residence_type  avg_glucose_level   bmi   smoking_status  \\\n",
       "0           Private          Urban             228.69  36.6  formerly smoked   \n",
       "1     Self-employed          Rural             202.21   NaN     never smoked   \n",
       "2           Private          Rural             105.92  32.5     never smoked   \n",
       "3           Private          Urban             171.23  34.4           smokes   \n",
       "4     Self-employed          Rural             174.12  24.0     never smoked   \n",
       "...             ...            ...                ...   ...              ...   \n",
       "5105        Private          Urban              83.75   NaN     never smoked   \n",
       "5106  Self-employed          Urban             125.20  40.0     never smoked   \n",
       "5107  Self-employed          Rural              82.99  30.6     never smoked   \n",
       "5108        Private          Rural             166.29  25.6  formerly smoked   \n",
       "5109       Govt_job          Urban              85.28  26.2          Unknown   \n",
       "\n",
       "      stroke  \n",
       "0          1  \n",
       "1          1  \n",
       "2          1  \n",
       "3          1  \n",
       "4          1  \n",
       "...      ...  \n",
       "5105       0  \n",
       "5106       0  \n",
       "5107       0  \n",
       "5108       0  \n",
       "5109       0  \n",
       "\n",
       "[5110 rows x 12 columns]"
      ]
     },
     "execution_count": 9,
     "metadata": {},
     "output_type": "execute_result"
    }
   ],
   "source": [
    "# For reference\n",
    "Stroke_df"
   ]
  },
  {
   "cell_type": "code",
   "execution_count": 4,
   "id": "b15ffffa",
   "metadata": {},
   "outputs": [
    {
     "name": "stdout",
     "output_type": "stream",
     "text": [
      "Mean of Population avg_glucose_level: 106.15\n",
      "Mean of Sample avg_glucose_level: 105.54439999999998\n"
     ]
    }
   ],
   "source": [
    "# Taking a sample of # 25 rows\n",
    "Stroke_df_smpl=Stroke_df.sample(n=25)\n",
    "print('Mean of Population avg_glucose_level:', round(Stroke_df['avg_glucose_level'].mean(),2))\n",
    "print('Mean of Sample avg_glucose_level:', Stroke_df_smpl['avg_glucose_level'].mean())\n"
   ]
  },
  {
   "cell_type": "code",
   "execution_count": null,
   "id": "2e9032a3",
   "metadata": {},
   "outputs": [],
   "source": [
    "\"\"\"\n",
    "    --> From the above values, we can clearly see that half of population are either pre-diabetic or \n",
    "        diabetic (>100 mg/dL).\n",
    "        And I'm going to do a sample proportion hypothesis test below.\n",
    "                                                                         \"\"\"\n"
   ]
  },
  {
   "cell_type": "code",
   "execution_count": 5,
   "id": "339e1742",
   "metadata": {},
   "outputs": [
    {
     "name": "stdout",
     "output_type": "stream",
     "text": [
      "P-value:  0.9525445424725865\n",
      "Fail to reject null hypothesis\n"
     ]
    }
   ],
   "source": [
    "\"\"\"\n",
    "                                       ONE SAMPLING PROPORTION MEAN HYPOTHESIS TEST\n",
    "                                       \n",
    "    Conditions: Sample should be random and sample size, n<30\n",
    "    Null Hypothesis Ho: Half of population are either pre-diabetic or diabetic\n",
    "    Alternate Hypothesis Ha: Half of population are neither pre-diabetic or diabetic\n",
    "    confidence level, α is 0.05 or 5%\n",
    "                                                                                       \"\"\"\n",
    "from scipy.stats import ttest_1samp\n",
    "ttest,p_value=ttest_1samp(Stroke_df_smpl['avg_glucose_level'],Stroke_df['avg_glucose_level'].mean())\n",
    "print('P-value: ', p_value)\n",
    "\n",
    "if p_value>0.05:\n",
    "    print(\"Fail to reject null hypothesis\")\n",
    "else:\n",
    "    print(\"Accepting alternate hypothesis\")"
   ]
  },
  {
   "cell_type": "code",
   "execution_count": null,
   "id": "ae8a5665",
   "metadata": {},
   "outputs": [],
   "source": [
    "\"\"\"\n",
    "    --> From the above, we can conclude that Half of the population are either pre-diabetic or diabetic.\n",
    "                                                                                                        \"\"\""
   ]
  },
  {
   "cell_type": "code",
   "execution_count": 8,
   "id": "daa40810",
   "metadata": {},
   "outputs": [
    {
     "name": "stdout",
     "output_type": "stream",
     "text": [
      "Fail to reject null hypothesis\n"
     ]
    }
   ],
   "source": [
    "#Just for my practice I'm going to perform the same hypothesis using Z test.\n",
    "\"\"\" Conditions: Sample should be random and sample size, n>=30 \"\"\"\n",
    "\n",
    "from statsmodels.stats.weightstats import ztest as ztest\n",
    "\n",
    "Stroke_df_smpl=Stroke_df.sample(n=100)\n",
    "ztest,p_value=ztest(Stroke_df_smpl['avg_glucose_level'],value=Stroke_df['avg_glucose_level'].mean())\n",
    "\n",
    "if p_value>0.05:\n",
    "    print(\"Fail to reject null hypothesis\")\n",
    "else:\n",
    "    print(\"Accepting alternate hypothesis\")"
   ]
  },
  {
   "cell_type": "code",
   "execution_count": null,
   "id": "2f43feb0",
   "metadata": {},
   "outputs": [],
   "source": [
    "\"\"\"\n",
    "    --> From the above, we can conclude that the same results persists when we use z test as well.\n",
    "                                                                                                        \"\"\""
   ]
  },
  {
   "cell_type": "code",
   "execution_count": null,
   "id": "da3301ad",
   "metadata": {},
   "outputs": [],
   "source": []
  },
  {
   "cell_type": "markdown",
   "id": "407d44e9",
   "metadata": {},
   "source": [
    "#### BIVARIATE STATISTICAL ANALYSIS"
   ]
  },
  {
   "cell_type": "code",
   "execution_count": null,
   "id": "0f71aa56",
   "metadata": {},
   "outputs": [],
   "source": [
    "\"\"\"\n",
    "                                       CHI SQUARE (χ2) INDEPENDENCE HYPOTHESIS TEST\n",
    "                                       \n",
    "    Conditions: Expected frequencies of each cell > 5\n",
    "    Null Hypothesis Ho: stroke is independent of gender\n",
    "    Alternate Hypothesis Ha: Dependency exists between gender and stroke\n",
    "    confidence level, α is 0.05 or 5%\n",
    "                                                                                       \"\"\""
   ]
  },
  {
   "cell_type": "code",
   "execution_count": 13,
   "id": "b4050009",
   "metadata": {},
   "outputs": [
    {
     "data": {
      "text/html": [
       "<div>\n",
       "<style scoped>\n",
       "    .dataframe tbody tr th:only-of-type {\n",
       "        vertical-align: middle;\n",
       "    }\n",
       "\n",
       "    .dataframe tbody tr th {\n",
       "        vertical-align: top;\n",
       "    }\n",
       "\n",
       "    .dataframe thead th {\n",
       "        text-align: right;\n",
       "    }\n",
       "</style>\n",
       "<table border=\"1\" class=\"dataframe\">\n",
       "  <thead>\n",
       "    <tr style=\"text-align: right;\">\n",
       "      <th>stroke_str</th>\n",
       "      <th>stroke_negative</th>\n",
       "      <th>stroke_positive</th>\n",
       "    </tr>\n",
       "    <tr>\n",
       "      <th>gender</th>\n",
       "      <th></th>\n",
       "      <th></th>\n",
       "    </tr>\n",
       "  </thead>\n",
       "  <tbody>\n",
       "    <tr>\n",
       "      <th>Female</th>\n",
       "      <td>2853</td>\n",
       "      <td>141</td>\n",
       "    </tr>\n",
       "    <tr>\n",
       "      <th>Male</th>\n",
       "      <td>2007</td>\n",
       "      <td>108</td>\n",
       "    </tr>\n",
       "    <tr>\n",
       "      <th>Other</th>\n",
       "      <td>1</td>\n",
       "      <td>0</td>\n",
       "    </tr>\n",
       "  </tbody>\n",
       "</table>\n",
       "</div>"
      ],
      "text/plain": [
       "stroke_str  stroke_negative  stroke_positive\n",
       "gender                                      \n",
       "Female                 2853              141\n",
       "Male                   2007              108\n",
       "Other                     1                0"
      ]
     },
     "execution_count": 13,
     "metadata": {},
     "output_type": "execute_result"
    }
   ],
   "source": [
    "#creating custom column\n",
    "Stroke_df['stroke_str']=Stroke_df['stroke'].apply(lambda x: 'stroke_negative' if x==0 else 'stroke_positive')\n",
    "#creating crosstab to get freq of two variables\n",
    "chi_sqr_tab= pd.crosstab(Stroke_df['gender'],Stroke_df['stroke_str'])\n",
    "chi_sqr_tab"
   ]
  },
  {
   "cell_type": "code",
   "execution_count": 36,
   "id": "c17ebcc0",
   "metadata": {},
   "outputs": [
    {
     "name": "stdout",
     "output_type": "stream",
     "text": [
      "Statistic value: 0.47258662884530234\n",
      "p_value: 0.7895490538408245\n",
      "Degree of freedom: 2\n",
      "Fail to reject null hypothesis\n"
     ]
    }
   ],
   "source": [
    "chi_sqr=stats.chi2_contingency(chi_sqr_tab)\n",
    "# print(chi_sqr)\n",
    "chi_sqr_val=chi_sqr[0]\n",
    "print('Statistic value:',chi_sqr_val)\n",
    "p_value=chi_sqr[1]\n",
    "print('p_value:',p_value)\n",
    "DOF=chi_sqr[2]\n",
    "print('Degree of freedom:',DOF)\n",
    "\n",
    "if p_value>0.05:\n",
    "    print(\"Fail to reject null hypothesis\")\n",
    "else:\n",
    "    print(\"Accepting alternate hypothesis\")"
   ]
  },
  {
   "cell_type": "code",
   "execution_count": null,
   "id": "0d3693d5",
   "metadata": {},
   "outputs": [],
   "source": [
    "\"\"\" \n",
    "    -->From the above p_value which <α, we can conclude that stroke is independent of gender\n",
    "                                                                                            \"\"\""
   ]
  },
  {
   "cell_type": "code",
   "execution_count": null,
   "id": "88954b15",
   "metadata": {},
   "outputs": [],
   "source": []
  },
  {
   "cell_type": "markdown",
   "id": "c0a6716c",
   "metadata": {},
   "source": [
    "#### MULTIVARIATE STATISTICAL ANALYSIS"
   ]
  },
  {
   "cell_type": "code",
   "execution_count": null,
   "id": "b64e61d8",
   "metadata": {},
   "outputs": [],
   "source": [
    "\"\"\"\n",
    "                                      ONE-WAY ANOVA HYPOTHESIS TEST\n",
    "                                       \n",
    "    Conditions: (i)   The dependent variable must be a continuous\n",
    "                (ii)  Independent variables in ANOVA must be categorical \n",
    "                (iii) We assume that the data is normally distributed\n",
    "                (iv)  An individual can only belong in one group. \n",
    "                      Also, this means that the data is not repeated measures (not collected through time).\n",
    "    Null Hypothesis Ho: bmi is independent of smoking_status\n",
    "    Alternate Hypothesis Ha: Dependency exists between smoking_status and bmi\n",
    "    confidence level, α is 0.05 or 5%\n",
    "                                                                                       \"\"\""
   ]
  },
  {
   "cell_type": "code",
   "execution_count": 38,
   "id": "97ac5f52",
   "metadata": {},
   "outputs": [
    {
     "data": {
      "text/plain": [
       "<Axes: title={'center': 'bmi'}, xlabel='smoking_status'>"
      ]
     },
     "execution_count": 38,
     "metadata": {},
     "output_type": "execute_result"
    },
    {
     "data": {
      "image/png": "[encoded data removed]",
      "text/plain": [
       "<Figure size 640x480 with 1 Axes>"
      ]
     },
     "metadata": {},
     "output_type": "display_data"
    }
   ],
   "source": [
    "Stroke_df.boxplot('bmi', by='smoking_status')"
   ]
  },
  {
   "cell_type": "code",
   "execution_count": 44,
   "id": "da4100cd",
   "metadata": {},
   "outputs": [
    {
     "data": {
      "text/html": [
       "<div>\n",
       "<style scoped>\n",
       "    .dataframe tbody tr th:only-of-type {\n",
       "        vertical-align: middle;\n",
       "    }\n",
       "\n",
       "    .dataframe tbody tr th {\n",
       "        vertical-align: top;\n",
       "    }\n",
       "\n",
       "    .dataframe thead th {\n",
       "        text-align: right;\n",
       "    }\n",
       "</style>\n",
       "<table border=\"1\" class=\"dataframe\">\n",
       "  <thead>\n",
       "    <tr style=\"text-align: right;\">\n",
       "      <th></th>\n",
       "      <th>sum_sq</th>\n",
       "      <th>df</th>\n",
       "      <th>F</th>\n",
       "      <th>PR(&gt;F)</th>\n",
       "    </tr>\n",
       "  </thead>\n",
       "  <tbody>\n",
       "    <tr>\n",
       "      <th>C(smoking_status)</th>\n",
       "      <td>397.386136</td>\n",
       "      <td>2.0</td>\n",
       "      <td>3.738626</td>\n",
       "      <td>0.023884</td>\n",
       "    </tr>\n",
       "    <tr>\n",
       "      <th>Residual</th>\n",
       "      <td>181918.824457</td>\n",
       "      <td>3423.0</td>\n",
       "      <td>NaN</td>\n",
       "      <td>NaN</td>\n",
       "    </tr>\n",
       "  </tbody>\n",
       "</table>\n",
       "</div>"
      ],
      "text/plain": [
       "                          sum_sq      df         F    PR(>F)\n",
       "C(smoking_status)     397.386136     2.0  3.738626  0.023884\n",
       "Residual           181918.824457  3423.0       NaN       NaN"
      ]
     },
     "execution_count": 44,
     "metadata": {},
     "output_type": "execute_result"
    }
   ],
   "source": [
    "import statsmodels.api as sm\n",
    "from statsmodels.formula.api import ols\n",
    "\n",
    "ols(\"bmi ~ C(smoking_status)\", data= Stroke_df[Stroke_df['smoking_status'] != 'Unknown']).fit()\n",
    "\n",
    "model = ols('bmi ~ C(smoking_status)', data=Stroke_df[Stroke_df['smoking_status'] != 'Unknown']).fit()\n",
    "aov_table = sm.stats.anova_lm(model, typ=2)\n",
    "aov_table\n"
   ]
  },
  {
   "cell_type": "code",
   "execution_count": null,
   "id": "6ed97fbf",
   "metadata": {},
   "outputs": [],
   "source": [
    "\"\"\" Noticeably when i performed the analysis including the 'Unknown' in smoking_status,\n",
    "    P-value become very low 6.947847e-82.\n",
    "    \n",
    "    From the above analysis, since P-value<0.05, we accept alternate hypothesis.\n",
    "    \n",
    "    While saying we accept Ha instead of Fail to accept Ho, we should also consider the science \n",
    "    behind bmi and smoking metrics. \n",
    "                                                                                \"\"\""
   ]
  },
  {
   "cell_type": "code",
   "execution_count": null,
   "id": "536d0477",
   "metadata": {},
   "outputs": [],
   "source": [
    "\"\"\"\n",
    "                                      TWO-WAY ANOVA HYPOTHESIS TEST\n",
    "                                       \n",
    "    Conditions: (i)   Independence of variables\n",
    "                (ii)  Homoscedasticity \n",
    "                (iii) We assume that the data is normally distributed\n",
    "\n",
    "    Null Hypothesis Ho: Residence_type and work_type have NO effect on avg_glucose_level\n",
    "    Alternate Hypothesis Ha: Residence_type and work_type have considerable effect on avg_glucose_level\n",
    "    confidence level, α is 0.05 or 5%\n",
    "                                                                                       \"\"\""
   ]
  },
  {
   "cell_type": "markdown",
   "id": "29d56bd4",
   "metadata": {},
   "source": [
    "Useful links: [Two-way ANOVA conditions](https://www.wallstreetmojo.com/two-way-anova/), [Ordinary least squares-ols](https://www.geeksforgeeks.org/ordinary-least-squares-ols-using-statsmodels/)"
   ]
  },
  {
   "cell_type": "code",
   "execution_count": 7,
   "id": "9f4f2c34",
   "metadata": {},
   "outputs": [
    {
     "name": "stdout",
     "output_type": "stream",
     "text": [
      "Unique Residence_type values: ['Urban' 'Rural']\n",
      "Unique work_type values: ['Private' 'Self-employed' 'Govt_job' 'children' 'Never_worked']\n"
     ]
    }
   ],
   "source": [
    "print('Unique Residence_type values:',Stroke_df['Residence_type'].unique())\n",
    "print('Unique work_type values:', Stroke_df['work_type'].unique())"
   ]
  },
  {
   "cell_type": "code",
   "execution_count": 18,
   "id": "f88f96fd",
   "metadata": {},
   "outputs": [
    {
     "data": {
      "text/html": [
       "<div>\n",
       "<style scoped>\n",
       "    .dataframe tbody tr th:only-of-type {\n",
       "        vertical-align: middle;\n",
       "    }\n",
       "\n",
       "    .dataframe tbody tr th {\n",
       "        vertical-align: top;\n",
       "    }\n",
       "\n",
       "    .dataframe thead th {\n",
       "        text-align: right;\n",
       "    }\n",
       "</style>\n",
       "<table border=\"1\" class=\"dataframe\">\n",
       "  <thead>\n",
       "    <tr style=\"text-align: right;\">\n",
       "      <th></th>\n",
       "      <th>sum_sq</th>\n",
       "      <th>df</th>\n",
       "      <th>F</th>\n",
       "      <th>PR(&gt;F)</th>\n",
       "    </tr>\n",
       "  </thead>\n",
       "  <tbody>\n",
       "    <tr>\n",
       "      <th>Residence_type</th>\n",
       "      <td>3.061417e+02</td>\n",
       "      <td>1.0</td>\n",
       "      <td>0.151061</td>\n",
       "      <td>6.975395e-01</td>\n",
       "    </tr>\n",
       "    <tr>\n",
       "      <th>work_type</th>\n",
       "      <td>1.346650e+05</td>\n",
       "      <td>4.0</td>\n",
       "      <td>16.612133</td>\n",
       "      <td>1.559384e-13</td>\n",
       "    </tr>\n",
       "    <tr>\n",
       "      <th>Residence_type:work_type</th>\n",
       "      <td>5.906930e+03</td>\n",
       "      <td>4.0</td>\n",
       "      <td>0.728673</td>\n",
       "      <td>5.722461e-01</td>\n",
       "    </tr>\n",
       "    <tr>\n",
       "      <th>Residual</th>\n",
       "      <td>1.033569e+07</td>\n",
       "      <td>5100.0</td>\n",
       "      <td>NaN</td>\n",
       "      <td>NaN</td>\n",
       "    </tr>\n",
       "  </tbody>\n",
       "</table>\n",
       "</div>"
      ],
      "text/plain": [
       "                                sum_sq      df          F        PR(>F)\n",
       "Residence_type            3.061417e+02     1.0   0.151061  6.975395e-01\n",
       "work_type                 1.346650e+05     4.0  16.612133  1.559384e-13\n",
       "Residence_type:work_type  5.906930e+03     4.0   0.728673  5.722461e-01\n",
       "Residual                  1.033569e+07  5100.0        NaN           NaN"
      ]
     },
     "execution_count": 18,
     "metadata": {},
     "output_type": "execute_result"
    }
   ],
   "source": [
    "ols(\"avg_glucose_level ~ Residence_type + work_type + Residence_type:work_type\", data=Stroke_df).fit()\n",
    "\n",
    "model = ols('avg_glucose_level ~ Residence_type + work_type + Residence_type:work_type', data=Stroke_df).fit()\n",
    "aov_table = sm.stats.anova_lm(model, typ=2)\n",
    "aov_table\n"
   ]
  },
  {
   "cell_type": "code",
   "execution_count": null,
   "id": "1b765fab",
   "metadata": {},
   "outputs": [],
   "source": [
    "\"\"\"  \n",
    "    -->From the above analysis, since P-value>0.05, we fail to reject null hypothesis.\n",
    "    -->Noticeably, we can see that the P-value for C(Residence_type) ~ 17.96 > 0.05 which indicates it doesn't have\n",
    "    much impact on glucose level. \n",
    "    -->Reason for this might be because of smaller dataset or the fact that even rural\n",
    "    people do get diabetes as much as urban people these days.\n",
    "\n",
    "                                                                                \"\"\""
   ]
  }
 ],
 "metadata": {
  "kernelspec": {
   "display_name": "conda_python3",
   "language": "python",
   "name": "conda_python3"
  },
  "language_info": {
   "codemirror_mode": {
    "name": "ipython",
    "version": 3
   },
   "file_extension": ".py",
   "mimetype": "text/x-python",
   "name": "python",
   "nbconvert_exporter": "python",
   "pygments_lexer": "ipython3",
   "version": "3.10.10"
  }
 },
 "nbformat": 4,
 "nbformat_minor": 5
}
